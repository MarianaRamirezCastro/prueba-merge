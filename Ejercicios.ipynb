{
 "cells": [
  {
   "cell_type": "code",
   "execution_count": 2,
   "id": "733824dd-c3b0-4758-9a4c-92fafa3afc30",
   "metadata": {},
   "outputs": [
    {
     "name": "stdout",
     "output_type": "stream",
     "text": [
      "Positive Keywords: ['excellent', 'love', 'superb']\n",
      "Negative Keywords: ['disappointing']\n"
     ]
    }
   ],
   "source": [
    "# marc\n",
    "# List of feedback comments\n",
    "feedback_comments = [\n",
    "    \"The service was excellent and I love the product!\",\n",
    "    \"The quality of the item was great.\",\n",
    "    \"Unfortunately, the package arrived damaged.\",\n",
    "    \"I had a superb experience with your company.\",\n",
    "    \"The product was disappointing and terrible.\",\n",
    "]\n",
    "\n",
    "# List of positive and negative keywords\n",
    "positive_words = [\"excellent\", \"love\", \"great\", \"superb\"]\n",
    "negative_words = [\"terrible\", \"disappointing\", \"damaged\"]\n",
    "\n",
    "# Extract positive keywords using list comprehension\n",
    "positive_keywords = [word for comment in feedback_comments for word in comment.lower().split() if word in positive_words]\n",
    "\n",
    "# Extract negative keywords using list comprehension\n",
    "negative_keywords = [word for comment in feedback_comments for word in comment.lower().split() if word in negative_words]\n",
    "\n",
    "# Display the extracted keywords\n",
    "print(\"Positive Keywords:\", positive_keywords)\n",
    "print(\"Negative Keywords:\", negative_keywords)"
   ]
  },
  {
   "cell_type": "code",
   "execution_count": 5,
   "id": "8faf5567-0945-4204-a568-64c4e85653fb",
   "metadata": {},
   "outputs": [
    {
     "name": "stdout",
     "output_type": "stream",
     "text": [
      "[1, 2, 3, 4, 5, 6]\n"
     ]
    }
   ],
   "source": [
    "# mariana\n",
    "nested_list = [[1, 2], [3,4], [5, 6]]\n",
    "#output esperado, flat_list = [1, 2, 3, 4, 5, 6]\n",
    "\n",
    "new_list = []  # Crea una lista vacía para almacenar los elementos aplanados.\n",
    "\n",
    "for i in nested_list:  # Itera a través de la lista exterior.\n",
    "    for k in i:  # Itera a través de la lista interior dentro de la lista exterior.\n",
    "        new_list.append(k)  # Agrega el elemento individual 'k' a new_list.\n",
    "print(new_list)"
   ]
  },
  {
   "cell_type": "code",

 
   "execution_count": 1,

   "id": "630efacc-4d27-48cc-8233-4f63f85d1b66",
   "metadata": {},
   "outputs": [
    {
     "name": "stdout",
     "output_type": "stream",
     "text": [

      "['Barcelona']\n"

     ]
    }
   ],
   "source": [
    "# comun \n",

    "# Definir una lista de palabras\n",
    "list_of_words = [\"Barcelona\", \"Madrid\", \"Girona\", \"Murcia\"]\n",
    "\n",
    "# Crear una lista vacía para almacenar palabras de más de 6 caracteres\n",
    "new_list = []\n",
    "\n",
    "# Recorrer cada palabra en list_of_words\n",
    "for word in list_of_words:\n",
    "    # Verificar si la longitud de la palabra es mayor que 6\n",
    "    if len(word) > 6:\n",
    "        # Si se cumple la condición, añadir la palabra a new_list\n",
    "        new_list.append(word)\n",
    "\n",
    "# Mostrar new_list que contiene palabras de más de 6 caracteres\n",
    

   "nested_list = [[1, 2], [3,4], [5, 6]]\n",
    "#output esperado, flat_list = [1, 2, 3, 4, 5, 6]\n",
    "\n",
    "new_list = []  # Crea una lista vacía para almacenar los elementos aplanados.\n",
    "\n",
    "for i in nested_list:  # Itera a través de la lista exterior.\n",
    "    for k in i:  # Itera a través de la lista interior dentro de la lista exterior.\n",
    "        new_list.append(k)  # Agrega el elemento individual 'k' a new_list.\n",

    "print(new_list)"
   ]
  }
 ],
 "metadata": {
  "kernelspec": {
   "display_name": "Python 3 (ipykernel)",
   "language": "python",
   "name": "python3"
  },
  "language_info": {
   "codemirror_mode": {
    "name": "ipython",
    "version": 3
   },
   "file_extension": ".py",
   "mimetype": "text/x-python",
   "name": "python",
   "nbconvert_exporter": "python",
   "pygments_lexer": "ipython3",
   "version": "3.10.12"
  }
 },
 "nbformat": 4,
 "nbformat_minor": 5
}
