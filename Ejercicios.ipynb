{
 "cells": [
  {
   "cell_type": "code",
   "execution_count": null,
   "id": "733824dd-c3b0-4758-9a4c-92fafa3afc30",
   "metadata": {},
   "outputs": [],
   "source": [
    "# marc"
   ]
  },
  {
   "cell_type": "code",
   "execution_count": null,
   "id": "8faf5567-0945-4204-a568-64c4e85653fb",
   "metadata": {},
   "outputs": [],
   "source": [
    "# mariana"
   ]
  },
  {
   "cell_type": "code",
   "execution_count": null,
   "id": "630efacc-4d27-48cc-8233-4f63f85d1b66",
   "metadata": {},
   "outputs": [],
   "source": [
    "# comun "
   ]
  }
 ],
 "metadata": {
  "kernelspec": {
   "display_name": "Python 3 (ipykernel)",
   "language": "python",
   "name": "python3"
  },
  "language_info": {
   "codemirror_mode": {
    "name": "ipython",
    "version": 3
   },
   "file_extension": ".py",
   "mimetype": "text/x-python",
   "name": "python",
   "nbconvert_exporter": "python",
   "pygments_lexer": "ipython3",
   "version": "3.10.12"
  }
 },
 "nbformat": 4,
 "nbformat_minor": 5
}
