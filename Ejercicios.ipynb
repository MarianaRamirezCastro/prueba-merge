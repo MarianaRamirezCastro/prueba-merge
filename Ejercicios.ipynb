{
 "cells": [
  {
   "cell_type": "code",
   "execution_count": null,
   "id": "733824dd-c3b0-4758-9a4c-92fafa3afc30",
   "metadata": {},
   "outputs": [],
   "source": [
    "# marc"
   ]
  },
  {
   "cell_type": "code",
   "execution_count": 5,
   "id": "8faf5567-0945-4204-a568-64c4e85653fb",
   "metadata": {},
   "outputs": [
    {
     "name": "stdout",
     "output_type": "stream",
     "text": [
      "[1, 2, 3, 4, 5, 6]\n"
     ]
    }
   ],
   "source": [
    "# mariana\n",
    "nested_list = [[1, 2], [3,4], [5, 6]]\n",
    "#output esperado, flat_list = [1, 2, 3, 4, 5, 6]\n",
    "\n",
    "new_list = []  # Crea una lista vacía para almacenar los elementos aplanados.\n",
    "\n",
    "for i in nested_list:  # Itera a través de la lista exterior.\n",
    "    for k in i:  # Itera a través de la lista interior dentro de la lista exterior.\n",
    "        new_list.append(k)  # Agrega el elemento individual 'k' a new_list.\n",
    "print(new_list)"
   ]
  },
  {
   "cell_type": "code",
   "execution_count": 6,
   "id": "630efacc-4d27-48cc-8233-4f63f85d1b66",
   "metadata": {},
   "outputs": [
    {
     "name": "stdout",
     "output_type": "stream",
     "text": [
      "[1, 2, 3, 4, 5, 6]\n"
     ]
    }
   ],
   "source": [
    "# comun \n",
    "nested_list = [[1, 2], [3,4], [5, 6]]\n",
    "#output esperado, flat_list = [1, 2, 3, 4, 5, 6]\n",
    "\n",
    "new_list = []  # Crea una lista vacía para almacenar los elementos aplanados.\n",
    "\n",
    "for i in nested_list:  # Itera a través de la lista exterior.\n",
    "    for k in i:  # Itera a través de la lista interior dentro de la lista exterior.\n",
    "        new_list.append(k)  # Agrega el elemento individual 'k' a new_list.\n",
    "print(new_list)"
   ]
  }
 ],
 "metadata": {
  "kernelspec": {
   "display_name": "Python 3 (ipykernel)",
   "language": "python",
   "name": "python3"
  },
  "language_info": {
   "codemirror_mode": {
    "name": "ipython",
    "version": 3
   },
   "file_extension": ".py",
   "mimetype": "text/x-python",
   "name": "python",
   "nbconvert_exporter": "python",
   "pygments_lexer": "ipython3",
   "version": "3.10.12"
  }
 },
 "nbformat": 4,
 "nbformat_minor": 5
}
